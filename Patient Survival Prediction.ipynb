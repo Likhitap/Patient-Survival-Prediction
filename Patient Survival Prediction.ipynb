{
 "cells": [
  {
   "cell_type": "markdown",
   "id": "87fefaee",
   "metadata": {},
   "source": [
    "## Patient Survival Prediction"
   ]
  },
  {
   "cell_type": "markdown",
   "id": "4e1bf5c9",
   "metadata": {},
   "source": [
    "<font color=\"blue\">Problem Statement:</font>\n",
    "\n",
    "<p>The aim or goal of the project is to predict survival of patients with heart failure based on clinical features. In this project different supervised machine learning classification algorithms will be used to predict the target death event of the patient. Feature selection and other hyperparameter tuning methods are used to build an accurately predicting model.</p>"
   ]
  },
  {
   "cell_type": "code",
   "execution_count": 1,
   "id": "0df7f2de",
   "metadata": {},
   "outputs": [],
   "source": [
    "import pandas as pd\n",
    "from sklearn.model_selection import train_test_split\n",
    "from sklearn.linear_model import LogisticRegression\n",
    "from sklearn.metrics import auc, accuracy_score, confusion_matrix, mean_squared_error, roc_auc_score\n",
    "from sklearn.model_selection import GridSearchCV,RandomizedSearchCV\n",
    "import matplotlib.pyplot as plt\n",
    "from sklearn.neighbors import KNeighborsClassifier\n",
    "from sklearn.feature_selection import SelectKBest, f_classif, chi2, RFE, f_regression\n",
    "from sklearn.ensemble import RandomForestClassifier, AdaBoostClassifier\n",
    "from sklearn.model_selection import RepeatedKFold, KFold\n",
    "from sklearn.model_selection import cross_val_score\n",
    "import seaborn as sns\n",
    "import xgboost as xgb\n",
    "import sqlite3 as sql\n",
    "import numpy as np"
   ]
  },
  {
   "cell_type": "code",
   "execution_count": 2,
   "id": "2cd1747f",
   "metadata": {},
   "outputs": [],
   "source": [
    "clinical_data = pd.read_csv('heart_failure_clinical_records_dataset.csv')"
   ]
  },
  {
   "cell_type": "code",
   "execution_count": 3,
   "id": "099d0ec4",
   "metadata": {},
   "outputs": [
    {
     "data": {
      "text/html": [
       "<div>\n",
       "<style scoped>\n",
       "    .dataframe tbody tr th:only-of-type {\n",
       "        vertical-align: middle;\n",
       "    }\n",
       "\n",
       "    .dataframe tbody tr th {\n",
       "        vertical-align: top;\n",
       "    }\n",
       "\n",
       "    .dataframe thead th {\n",
       "        text-align: right;\n",
       "    }\n",
       "</style>\n",
       "<table border=\"1\" class=\"dataframe\">\n",
       "  <thead>\n",
       "    <tr style=\"text-align: right;\">\n",
       "      <th></th>\n",
       "      <th>age</th>\n",
       "      <th>anaemia</th>\n",
       "      <th>creatinine_phosphokinase</th>\n",
       "      <th>diabetes</th>\n",
       "      <th>ejection_fraction</th>\n",
       "      <th>high_blood_pressure</th>\n",
       "      <th>platelets</th>\n",
       "      <th>serum_creatinine</th>\n",
       "      <th>serum_sodium</th>\n",
       "      <th>sex</th>\n",
       "      <th>smoking</th>\n",
       "      <th>time</th>\n",
       "      <th>DEATH_EVENT</th>\n",
       "    </tr>\n",
       "  </thead>\n",
       "  <tbody>\n",
       "    <tr>\n",
       "      <th>0</th>\n",
       "      <td>75.0</td>\n",
       "      <td>0</td>\n",
       "      <td>582</td>\n",
       "      <td>0</td>\n",
       "      <td>20</td>\n",
       "      <td>1</td>\n",
       "      <td>265000.00</td>\n",
       "      <td>1.9</td>\n",
       "      <td>130</td>\n",
       "      <td>1</td>\n",
       "      <td>0</td>\n",
       "      <td>4</td>\n",
       "      <td>1</td>\n",
       "    </tr>\n",
       "    <tr>\n",
       "      <th>1</th>\n",
       "      <td>55.0</td>\n",
       "      <td>0</td>\n",
       "      <td>7861</td>\n",
       "      <td>0</td>\n",
       "      <td>38</td>\n",
       "      <td>0</td>\n",
       "      <td>263358.03</td>\n",
       "      <td>1.1</td>\n",
       "      <td>136</td>\n",
       "      <td>1</td>\n",
       "      <td>0</td>\n",
       "      <td>6</td>\n",
       "      <td>1</td>\n",
       "    </tr>\n",
       "    <tr>\n",
       "      <th>2</th>\n",
       "      <td>65.0</td>\n",
       "      <td>0</td>\n",
       "      <td>146</td>\n",
       "      <td>0</td>\n",
       "      <td>20</td>\n",
       "      <td>0</td>\n",
       "      <td>162000.00</td>\n",
       "      <td>1.3</td>\n",
       "      <td>129</td>\n",
       "      <td>1</td>\n",
       "      <td>1</td>\n",
       "      <td>7</td>\n",
       "      <td>1</td>\n",
       "    </tr>\n",
       "    <tr>\n",
       "      <th>3</th>\n",
       "      <td>50.0</td>\n",
       "      <td>1</td>\n",
       "      <td>111</td>\n",
       "      <td>0</td>\n",
       "      <td>20</td>\n",
       "      <td>0</td>\n",
       "      <td>210000.00</td>\n",
       "      <td>1.9</td>\n",
       "      <td>137</td>\n",
       "      <td>1</td>\n",
       "      <td>0</td>\n",
       "      <td>7</td>\n",
       "      <td>1</td>\n",
       "    </tr>\n",
       "    <tr>\n",
       "      <th>4</th>\n",
       "      <td>65.0</td>\n",
       "      <td>1</td>\n",
       "      <td>160</td>\n",
       "      <td>1</td>\n",
       "      <td>20</td>\n",
       "      <td>0</td>\n",
       "      <td>327000.00</td>\n",
       "      <td>2.7</td>\n",
       "      <td>116</td>\n",
       "      <td>0</td>\n",
       "      <td>0</td>\n",
       "      <td>8</td>\n",
       "      <td>1</td>\n",
       "    </tr>\n",
       "  </tbody>\n",
       "</table>\n",
       "</div>"
      ],
      "text/plain": [
       "    age  anaemia  creatinine_phosphokinase  diabetes  ejection_fraction  \\\n",
       "0  75.0        0                       582         0                 20   \n",
       "1  55.0        0                      7861         0                 38   \n",
       "2  65.0        0                       146         0                 20   \n",
       "3  50.0        1                       111         0                 20   \n",
       "4  65.0        1                       160         1                 20   \n",
       "\n",
       "   high_blood_pressure  platelets  serum_creatinine  serum_sodium  sex  \\\n",
       "0                    1  265000.00               1.9           130    1   \n",
       "1                    0  263358.03               1.1           136    1   \n",
       "2                    0  162000.00               1.3           129    1   \n",
       "3                    0  210000.00               1.9           137    1   \n",
       "4                    0  327000.00               2.7           116    0   \n",
       "\n",
       "   smoking  time  DEATH_EVENT  \n",
       "0        0     4            1  \n",
       "1        0     6            1  \n",
       "2        1     7            1  \n",
       "3        0     7            1  \n",
       "4        0     8            1  "
      ]
     },
     "execution_count": 3,
     "metadata": {},
     "output_type": "execute_result"
    }
   ],
   "source": [
    "clinical_data.head()"
   ]
  },
  {
   "cell_type": "code",
   "execution_count": 4,
   "id": "18f884c6",
   "metadata": {},
   "outputs": [
    {
     "data": {
      "text/plain": [
       "(299, 13)"
      ]
     },
     "execution_count": 4,
     "metadata": {},
     "output_type": "execute_result"
    }
   ],
   "source": [
    "clinical_data.shape"
   ]
  },
  {
   "cell_type": "markdown",
   "id": "084d97d2",
   "metadata": {},
   "source": [
    "The dataset consists of 13 attributes:\n",
    "\n",
    "* age: age of the patient (years)\n",
    "* anaemia: decrease of red blood cells or hemoglobin (boolean)\n",
    "* high blood pressure: if the patient has hypertension (boolean)\n",
    "* creatinine phosphokinase (CPK): level of the CPK enzyme in the blood (mcg/L)\n",
    "* diabetes: if the patient has diabetes (boolean)\n",
    "* ejection fraction: percentage of blood leaving the heart at each contraction (percentage)\n",
    "* platelets: platelets in the blood (kiloplatelets/mL)\n",
    "* sex: woman or man (binary)\n",
    "* serum creatinine: level of serum creatinine in the blood (mg/dL)\n",
    "* serum sodium: level of serum sodium in the blood (mEq/L)\n",
    "* smoking: if the patient smokes or not (boolean)\n",
    "* time: follow-up period (days)\n",
    "* death event (Target Variable): if the patient deceased during the follow-up period (boolean)"
   ]
  },
  {
   "cell_type": "code",
   "execution_count": 5,
   "id": "28f07e5e",
   "metadata": {},
   "outputs": [
    {
     "data": {
      "text/html": [
       "<div>\n",
       "<style scoped>\n",
       "    .dataframe tbody tr th:only-of-type {\n",
       "        vertical-align: middle;\n",
       "    }\n",
       "\n",
       "    .dataframe tbody tr th {\n",
       "        vertical-align: top;\n",
       "    }\n",
       "\n",
       "    .dataframe thead th {\n",
       "        text-align: right;\n",
       "    }\n",
       "</style>\n",
       "<table border=\"1\" class=\"dataframe\">\n",
       "  <thead>\n",
       "    <tr style=\"text-align: right;\">\n",
       "      <th>DEATH_EVENT</th>\n",
       "      <th>0</th>\n",
       "      <th>1</th>\n",
       "    </tr>\n",
       "    <tr>\n",
       "      <th>anaemia</th>\n",
       "      <th></th>\n",
       "      <th></th>\n",
       "    </tr>\n",
       "  </thead>\n",
       "  <tbody>\n",
       "    <tr>\n",
       "      <th>0</th>\n",
       "      <td>120</td>\n",
       "      <td>50</td>\n",
       "    </tr>\n",
       "    <tr>\n",
       "      <th>1</th>\n",
       "      <td>83</td>\n",
       "      <td>46</td>\n",
       "    </tr>\n",
       "  </tbody>\n",
       "</table>\n",
       "</div>"
      ],
      "text/plain": [
       "DEATH_EVENT    0   1\n",
       "anaemia             \n",
       "0            120  50\n",
       "1             83  46"
      ]
     },
     "execution_count": 5,
     "metadata": {},
     "output_type": "execute_result"
    }
   ],
   "source": [
    "anaemia_deaths = clinical_data.groupby(['anaemia', 'DEATH_EVENT'])['DEATH_EVENT'].count().unstack()\n",
    "anaemia_deaths"
   ]
  },
  {
   "cell_type": "code",
   "execution_count": 6,
   "id": "e4555d01",
   "metadata": {},
   "outputs": [
    {
     "data": {
      "image/png": "[encoded data removed]",
      "text/plain": [
       "<Figure size 432x288 with 1 Axes>"
      ]
     },
     "metadata": {
      "needs_background": "light"
     },
     "output_type": "display_data"
    }
   ],
   "source": [
    "anaemia_deaths.plot(kind='bar', stacked=True)\n",
    "plt.title('Patient Survival when suffering with Anaemia')\n",
    "plt.show()"
   ]
  },
  {
   "cell_type": "code",
   "execution_count": 7,
   "id": "52991835",
   "metadata": {},
   "outputs": [
    {
     "data": {
      "text/html": [
       "<div>\n",
       "<style scoped>\n",
       "    .dataframe tbody tr th:only-of-type {\n",
       "        vertical-align: middle;\n",
       "    }\n",
       "\n",
       "    .dataframe tbody tr th {\n",
       "        vertical-align: top;\n",
       "    }\n",
       "\n",
       "    .dataframe thead th {\n",
       "        text-align: right;\n",
       "    }\n",
       "</style>\n",
       "<table border=\"1\" class=\"dataframe\">\n",
       "  <thead>\n",
       "    <tr style=\"text-align: right;\">\n",
       "      <th>DEATH_EVENT</th>\n",
       "      <th>0</th>\n",
       "      <th>1</th>\n",
       "    </tr>\n",
       "    <tr>\n",
       "      <th>diabetes</th>\n",
       "      <th></th>\n",
       "      <th></th>\n",
       "    </tr>\n",
       "  </thead>\n",
       "  <tbody>\n",
       "    <tr>\n",
       "      <th>0</th>\n",
       "      <td>118</td>\n",
       "      <td>56</td>\n",
       "    </tr>\n",
       "    <tr>\n",
       "      <th>1</th>\n",
       "      <td>85</td>\n",
       "      <td>40</td>\n",
       "    </tr>\n",
       "  </tbody>\n",
       "</table>\n",
       "</div>"
      ],
      "text/plain": [
       "DEATH_EVENT    0   1\n",
       "diabetes            \n",
       "0            118  56\n",
       "1             85  40"
      ]
     },
     "execution_count": 7,
     "metadata": {},
     "output_type": "execute_result"
    }
   ],
   "source": [
    "diabetes_deaths = clinical_data.groupby(['diabetes', 'DEATH_EVENT'])['DEATH_EVENT'].count().unstack()\n",
    "diabetes_deaths"
   ]
  },
  {
   "cell_type": "code",
   "execution_count": 8,
   "id": "2cd5f95c",
   "metadata": {},
   "outputs": [
    {
     "data": {
      "image/png": "[encoded data removed]",
      "text/plain": [
       "<Figure size 432x288 with 1 Axes>"
      ]
     },
     "metadata": {
      "needs_background": "light"
     },
     "output_type": "display_data"
    }
   ],
   "source": [
    "diabetes_deaths.plot(kind='bar', stacked=True)\n",
    "plt.title('Patient Survival when suffering with Diabetes')\n",
    "plt.show()"
   ]
  },
  {
   "cell_type": "code",
   "execution_count": 9,
   "id": "cdb9e5f6",
   "metadata": {},
   "outputs": [
    {
     "data": {
      "text/html": [
       "<div>\n",
       "<style scoped>\n",
       "    .dataframe tbody tr th:only-of-type {\n",
       "        vertical-align: middle;\n",
       "    }\n",
       "\n",
       "    .dataframe tbody tr th {\n",
       "        vertical-align: top;\n",
       "    }\n",
       "\n",
       "    .dataframe thead th {\n",
       "        text-align: right;\n",
       "    }\n",
       "</style>\n",
       "<table border=\"1\" class=\"dataframe\">\n",
       "  <thead>\n",
       "    <tr style=\"text-align: right;\">\n",
       "      <th>DEATH_EVENT</th>\n",
       "      <th>0</th>\n",
       "      <th>1</th>\n",
       "    </tr>\n",
       "    <tr>\n",
       "      <th>high_blood_pressure</th>\n",
       "      <th></th>\n",
       "      <th></th>\n",
       "    </tr>\n",
       "  </thead>\n",
       "  <tbody>\n",
       "    <tr>\n",
       "      <th>0</th>\n",
       "      <td>137</td>\n",
       "      <td>57</td>\n",
       "    </tr>\n",
       "    <tr>\n",
       "      <th>1</th>\n",
       "      <td>66</td>\n",
       "      <td>39</td>\n",
       "    </tr>\n",
       "  </tbody>\n",
       "</table>\n",
       "</div>"
      ],
      "text/plain": [
       "DEATH_EVENT            0   1\n",
       "high_blood_pressure         \n",
       "0                    137  57\n",
       "1                     66  39"
      ]
     },
     "execution_count": 9,
     "metadata": {},
     "output_type": "execute_result"
    }
   ],
   "source": [
    "high_blood_pressure_deaths = clinical_data.groupby(['high_blood_pressure', 'DEATH_EVENT'])['DEATH_EVENT'].count().unstack()\n",
    "high_blood_pressure_deaths"
   ]
  },
  {
   "cell_type": "code",
   "execution_count": 10,
   "id": "fad21e4c",
   "metadata": {},
   "outputs": [
    {
     "data": {
      "image/png": "[encoded data removed]",
      "text/plain": [
       "<Figure size 432x288 with 1 Axes>"
      ]
     },
     "metadata": {
      "needs_background": "light"
     },
     "output_type": "display_data"
    }
   ],
   "source": [
    "high_blood_pressure_deaths.plot(kind='bar', stacked=True)\n",
    "plt.title('Patient Survival when suffering with High Blood Pressure')\n",
    "plt.show()"
   ]
  },
  {
   "cell_type": "code",
   "execution_count": 11,
   "id": "c5fbb68a",
   "metadata": {},
   "outputs": [
    {
     "data": {
      "text/html": [
       "<div>\n",
       "<style scoped>\n",
       "    .dataframe tbody tr th:only-of-type {\n",
       "        vertical-align: middle;\n",
       "    }\n",
       "\n",
       "    .dataframe tbody tr th {\n",
       "        vertical-align: top;\n",
       "    }\n",
       "\n",
       "    .dataframe thead th {\n",
       "        text-align: right;\n",
       "    }\n",
       "</style>\n",
       "<table border=\"1\" class=\"dataframe\">\n",
       "  <thead>\n",
       "    <tr style=\"text-align: right;\">\n",
       "      <th>DEATH_EVENT</th>\n",
       "      <th>0</th>\n",
       "      <th>1</th>\n",
       "    </tr>\n",
       "    <tr>\n",
       "      <th>sex</th>\n",
       "      <th></th>\n",
       "      <th></th>\n",
       "    </tr>\n",
       "  </thead>\n",
       "  <tbody>\n",
       "    <tr>\n",
       "      <th>0</th>\n",
       "      <td>71</td>\n",
       "      <td>34</td>\n",
       "    </tr>\n",
       "    <tr>\n",
       "      <th>1</th>\n",
       "      <td>132</td>\n",
       "      <td>62</td>\n",
       "    </tr>\n",
       "  </tbody>\n",
       "</table>\n",
       "</div>"
      ],
      "text/plain": [
       "DEATH_EVENT    0   1\n",
       "sex                 \n",
       "0             71  34\n",
       "1            132  62"
      ]
     },
     "execution_count": 11,
     "metadata": {},
     "output_type": "execute_result"
    }
   ],
   "source": [
    "sex_deaths = clinical_data.groupby(['sex', 'DEATH_EVENT'])['DEATH_EVENT'].count().unstack()\n",
    "sex_deaths"
   ]
  },
  {
   "cell_type": "code",
   "execution_count": 12,
   "id": "6f580f8f",
   "metadata": {},
   "outputs": [
    {
     "data": {
      "image/png": "[encoded data removed]",
      "text/plain": [
       "<Figure size 432x288 with 1 Axes>"
      ]
     },
     "metadata": {
      "needs_background": "light"
     },
     "output_type": "display_data"
    }
   ],
   "source": [
    "sex_deaths.plot(kind='bar', stacked=True)\n",
    "plt.title('Patient Survival based on Gender')\n",
    "plt.show()"
   ]
  },
  {
   "cell_type": "code",
   "execution_count": 13,
   "id": "56326c8b",
   "metadata": {},
   "outputs": [],
   "source": [
    "#Extracting the independent (Input variables) and dependednt (target variable)\n",
    "X = clinical_data.iloc[:,:-1]\n",
    "y = clinical_data.iloc[:,-1:]"
   ]
  },
  {
   "cell_type": "code",
   "execution_count": 14,
   "id": "395f1484",
   "metadata": {},
   "outputs": [
    {
     "data": {
      "text/plain": [
       "(299, 12)"
      ]
     },
     "execution_count": 14,
     "metadata": {},
     "output_type": "execute_result"
    }
   ],
   "source": [
    "#Checking the shape of input variables\n",
    "X.shape"
   ]
  },
  {
   "cell_type": "code",
   "execution_count": 15,
   "id": "e781e9cb",
   "metadata": {},
   "outputs": [
    {
     "data": {
      "text/plain": [
       "(299, 1)"
      ]
     },
     "execution_count": 15,
     "metadata": {},
     "output_type": "execute_result"
    }
   ],
   "source": [
    "#Checking the shape of target variable\n",
    "y.shape"
   ]
  },
  {
   "cell_type": "code",
   "execution_count": 16,
   "id": "ecc4ec83",
   "metadata": {
    "scrolled": false
   },
   "outputs": [
    {
     "data": {
      "text/html": [
       "<div>\n",
       "<style scoped>\n",
       "    .dataframe tbody tr th:only-of-type {\n",
       "        vertical-align: middle;\n",
       "    }\n",
       "\n",
       "    .dataframe tbody tr th {\n",
       "        vertical-align: top;\n",
       "    }\n",
       "\n",
       "    .dataframe thead th {\n",
       "        text-align: right;\n",
       "    }\n",
       "</style>\n",
       "<table border=\"1\" class=\"dataframe\">\n",
       "  <thead>\n",
       "    <tr style=\"text-align: right;\">\n",
       "      <th></th>\n",
       "      <th>age</th>\n",
       "      <th>anaemia</th>\n",
       "      <th>creatinine_phosphokinase</th>\n",
       "      <th>diabetes</th>\n",
       "      <th>ejection_fraction</th>\n",
       "      <th>high_blood_pressure</th>\n",
       "      <th>platelets</th>\n",
       "      <th>serum_creatinine</th>\n",
       "      <th>serum_sodium</th>\n",
       "      <th>sex</th>\n",
       "      <th>smoking</th>\n",
       "      <th>time</th>\n",
       "    </tr>\n",
       "  </thead>\n",
       "  <tbody>\n",
       "    <tr>\n",
       "      <th>count</th>\n",
       "      <td>299.000000</td>\n",
       "      <td>299.000000</td>\n",
       "      <td>299.000000</td>\n",
       "      <td>299.000000</td>\n",
       "      <td>299.000000</td>\n",
       "      <td>299.000000</td>\n",
       "      <td>299.000000</td>\n",
       "      <td>299.00000</td>\n",
       "      <td>299.000000</td>\n",
       "      <td>299.000000</td>\n",
       "      <td>299.00000</td>\n",
       "      <td>299.000000</td>\n",
       "    </tr>\n",
       "    <tr>\n",
       "      <th>mean</th>\n",
       "      <td>60.833893</td>\n",
       "      <td>0.431438</td>\n",
       "      <td>581.839465</td>\n",
       "      <td>0.418060</td>\n",
       "      <td>38.083612</td>\n",
       "      <td>0.351171</td>\n",
       "      <td>263358.029264</td>\n",
       "      <td>1.39388</td>\n",
       "      <td>136.625418</td>\n",
       "      <td>0.648829</td>\n",
       "      <td>0.32107</td>\n",
       "      <td>130.260870</td>\n",
       "    </tr>\n",
       "    <tr>\n",
       "      <th>std</th>\n",
       "      <td>11.894809</td>\n",
       "      <td>0.496107</td>\n",
       "      <td>970.287881</td>\n",
       "      <td>0.494067</td>\n",
       "      <td>11.834841</td>\n",
       "      <td>0.478136</td>\n",
       "      <td>97804.236869</td>\n",
       "      <td>1.03451</td>\n",
       "      <td>4.412477</td>\n",
       "      <td>0.478136</td>\n",
       "      <td>0.46767</td>\n",
       "      <td>77.614208</td>\n",
       "    </tr>\n",
       "    <tr>\n",
       "      <th>min</th>\n",
       "      <td>40.000000</td>\n",
       "      <td>0.000000</td>\n",
       "      <td>23.000000</td>\n",
       "      <td>0.000000</td>\n",
       "      <td>14.000000</td>\n",
       "      <td>0.000000</td>\n",
       "      <td>25100.000000</td>\n",
       "      <td>0.50000</td>\n",
       "      <td>113.000000</td>\n",
       "      <td>0.000000</td>\n",
       "      <td>0.00000</td>\n",
       "      <td>4.000000</td>\n",
       "    </tr>\n",
       "    <tr>\n",
       "      <th>25%</th>\n",
       "      <td>51.000000</td>\n",
       "      <td>0.000000</td>\n",
       "      <td>116.500000</td>\n",
       "      <td>0.000000</td>\n",
       "      <td>30.000000</td>\n",
       "      <td>0.000000</td>\n",
       "      <td>212500.000000</td>\n",
       "      <td>0.90000</td>\n",
       "      <td>134.000000</td>\n",
       "      <td>0.000000</td>\n",
       "      <td>0.00000</td>\n",
       "      <td>73.000000</td>\n",
       "    </tr>\n",
       "    <tr>\n",
       "      <th>50%</th>\n",
       "      <td>60.000000</td>\n",
       "      <td>0.000000</td>\n",
       "      <td>250.000000</td>\n",
       "      <td>0.000000</td>\n",
       "      <td>38.000000</td>\n",
       "      <td>0.000000</td>\n",
       "      <td>262000.000000</td>\n",
       "      <td>1.10000</td>\n",
       "      <td>137.000000</td>\n",
       "      <td>1.000000</td>\n",
       "      <td>0.00000</td>\n",
       "      <td>115.000000</td>\n",
       "    </tr>\n",
       "    <tr>\n",
       "      <th>75%</th>\n",
       "      <td>70.000000</td>\n",
       "      <td>1.000000</td>\n",
       "      <td>582.000000</td>\n",
       "      <td>1.000000</td>\n",
       "      <td>45.000000</td>\n",
       "      <td>1.000000</td>\n",
       "      <td>303500.000000</td>\n",
       "      <td>1.40000</td>\n",
       "      <td>140.000000</td>\n",
       "      <td>1.000000</td>\n",
       "      <td>1.00000</td>\n",
       "      <td>203.000000</td>\n",
       "    </tr>\n",
       "    <tr>\n",
       "      <th>max</th>\n",
       "      <td>95.000000</td>\n",
       "      <td>1.000000</td>\n",
       "      <td>7861.000000</td>\n",
       "      <td>1.000000</td>\n",
       "      <td>80.000000</td>\n",
       "      <td>1.000000</td>\n",
       "      <td>850000.000000</td>\n",
       "      <td>9.40000</td>\n",
       "      <td>148.000000</td>\n",
       "      <td>1.000000</td>\n",
       "      <td>1.00000</td>\n",
       "      <td>285.000000</td>\n",
       "    </tr>\n",
       "  </tbody>\n",
       "</table>\n",
       "</div>"
      ],
      "text/plain": [
       "              age     anaemia  creatinine_phosphokinase    diabetes  \\\n",
       "count  299.000000  299.000000                299.000000  299.000000   \n",
       "mean    60.833893    0.431438                581.839465    0.418060   \n",
       "std     11.894809    0.496107                970.287881    0.494067   \n",
       "min     40.000000    0.000000                 23.000000    0.000000   \n",
       "25%     51.000000    0.000000                116.500000    0.000000   \n",
       "50%     60.000000    0.000000                250.000000    0.000000   \n",
       "75%     70.000000    1.000000                582.000000    1.000000   \n",
       "max     95.000000    1.000000               7861.000000    1.000000   \n",
       "\n",
       "       ejection_fraction  high_blood_pressure      platelets  \\\n",
       "count         299.000000           299.000000     299.000000   \n",
       "mean           38.083612             0.351171  263358.029264   \n",
       "std            11.834841             0.478136   97804.236869   \n",
       "min            14.000000             0.000000   25100.000000   \n",
       "25%            30.000000             0.000000  212500.000000   \n",
       "50%            38.000000             0.000000  262000.000000   \n",
       "75%            45.000000             1.000000  303500.000000   \n",
       "max            80.000000             1.000000  850000.000000   \n",
       "\n",
       "       serum_creatinine  serum_sodium         sex    smoking        time  \n",
       "count         299.00000    299.000000  299.000000  299.00000  299.000000  \n",
       "mean            1.39388    136.625418    0.648829    0.32107  130.260870  \n",
       "std             1.03451      4.412477    0.478136    0.46767   77.614208  \n",
       "min             0.50000    113.000000    0.000000    0.00000    4.000000  \n",
       "25%             0.90000    134.000000    0.000000    0.00000   73.000000  \n",
       "50%             1.10000    137.000000    1.000000    0.00000  115.000000  \n",
       "75%             1.40000    140.000000    1.000000    1.00000  203.000000  \n",
       "max             9.40000    148.000000    1.000000    1.00000  285.000000  "
      ]
     },
     "execution_count": 16,
     "metadata": {},
     "output_type": "execute_result"
    }
   ],
   "source": [
    "#Checking the statistics of input variables\n",
    "X.describe()"
   ]
  },
  {
   "cell_type": "code",
   "execution_count": 17,
   "id": "cc1f1c10",
   "metadata": {},
   "outputs": [
    {
     "data": {
      "image/png": "[encoded data removed]",
      "text/plain": [
       "<Figure size 432x288 with 2 Axes>"
      ]
     },
     "metadata": {
      "needs_background": "light"
     },
     "output_type": "display_data"
    }
   ],
   "source": [
    "ax = plt.axes()\n",
    "ax.set_title('Pearson correlation coeff')\n",
    "sns.heatmap(clinical_data.corr(), annot=True, fmt=\".2f\",ax = ax)\n",
    "plt.show()"
   ]
  },
  {
   "cell_type": "code",
   "execution_count": 18,
   "id": "15096a93",
   "metadata": {},
   "outputs": [
    {
     "data": {
      "image/png": "[encoded data removed]",
      "text/plain": [
       "<Figure size 1152x720 with 6 Axes>"
      ]
     },
     "metadata": {
      "needs_background": "light"
     },
     "output_type": "display_data"
    }
   ],
   "source": [
    "#Producing a distribution plots for the key clinical attributes\n",
    "plt.figure(figsize = [16, 10])\n",
    "plt.subplot(3, 3, 1)\n",
    "sns.histplot(X['age'], kde=True, \n",
    "             bins=int(120/5), color = 'purple')\n",
    "\n",
    "plt.subplot(3, 3, 2)\n",
    "sns.histplot(X['creatinine_phosphokinase'], kde=True, \n",
    "             bins=int(120/5), color = 'green')\n",
    "\n",
    "plt.subplot(3, 3, 3)\n",
    "sns.histplot(X['ejection_fraction'], kde=True, \n",
    "             bins=int(120/5), color = 'blue')\n",
    "\n",
    "plt.subplot(3, 3, 4)\n",
    "sns.histplot(X['platelets'], kde=True, \n",
    "             bins=int(120/5), color = 'orange')\n",
    "\n",
    "plt.subplot(3, 3, 5)\n",
    "sns.histplot(X['serum_creatinine'], kde=True, \n",
    "             bins=int(120/5), color = 'pink')\n",
    "plt.subplot(3, 3, 6)\n",
    "sns.histplot(X['serum_sodium'], kde=True, \n",
    "             bins=int(120/5), color = 'red')\n",
    "\n",
    "plt.show()"
   ]
  },
  {
   "cell_type": "markdown",
   "id": "33ca16e0",
   "metadata": {},
   "source": [
    "From the above distribution of some key clinical attributes in the dataset we can say the attributes like age, ejection fraction, platelets, serum sodium have a fairly normal distribution while creatinine phosphokinase and serum creatinine have distributions that is skewed towards lower values. Since follow-up time (measured in days) is not a clinical attribute I am disrigarding it for building machine learning model"
   ]
  },
  {
   "cell_type": "markdown",
   "id": "0d3a76e5",
   "metadata": {},
   "source": [
    "For further data exploration I have loaded the data into SQlite database to use SQL queries that can retrive some interesting attributes of the dataset"
   ]
  },
  {
   "cell_type": "code",
   "execution_count": 19,
   "id": "20eaf9f4",
   "metadata": {},
   "outputs": [
    {
     "data": {
      "text/html": [
       "<div>\n",
       "<style scoped>\n",
       "    .dataframe tbody tr th:only-of-type {\n",
       "        vertical-align: middle;\n",
       "    }\n",
       "\n",
       "    .dataframe tbody tr th {\n",
       "        vertical-align: top;\n",
       "    }\n",
       "\n",
       "    .dataframe thead th {\n",
       "        text-align: right;\n",
       "    }\n",
       "</style>\n",
       "<table border=\"1\" class=\"dataframe\">\n",
       "  <thead>\n",
       "    <tr style=\"text-align: right;\">\n",
       "      <th></th>\n",
       "      <th>index</th>\n",
       "      <th>age</th>\n",
       "      <th>anaemia</th>\n",
       "      <th>creatinine_phosphokinase</th>\n",
       "      <th>diabetes</th>\n",
       "      <th>ejection_fraction</th>\n",
       "      <th>high_blood_pressure</th>\n",
       "      <th>platelets</th>\n",
       "      <th>serum_creatinine</th>\n",
       "      <th>serum_sodium</th>\n",
       "      <th>sex</th>\n",
       "      <th>smoking</th>\n",
       "      <th>time</th>\n",
       "      <th>DEATH_EVENT</th>\n",
       "    </tr>\n",
       "  </thead>\n",
       "  <tbody>\n",
       "    <tr>\n",
       "      <th>0</th>\n",
       "      <td>0</td>\n",
       "      <td>75.0</td>\n",
       "      <td>0</td>\n",
       "      <td>582</td>\n",
       "      <td>0</td>\n",
       "      <td>20</td>\n",
       "      <td>1</td>\n",
       "      <td>265000.00</td>\n",
       "      <td>1.9</td>\n",
       "      <td>130</td>\n",
       "      <td>1</td>\n",
       "      <td>0</td>\n",
       "      <td>4</td>\n",
       "      <td>1</td>\n",
       "    </tr>\n",
       "    <tr>\n",
       "      <th>1</th>\n",
       "      <td>1</td>\n",
       "      <td>55.0</td>\n",
       "      <td>0</td>\n",
       "      <td>7861</td>\n",
       "      <td>0</td>\n",
       "      <td>38</td>\n",
       "      <td>0</td>\n",
       "      <td>263358.03</td>\n",
       "      <td>1.1</td>\n",
       "      <td>136</td>\n",
       "      <td>1</td>\n",
       "      <td>0</td>\n",
       "      <td>6</td>\n",
       "      <td>1</td>\n",
       "    </tr>\n",
       "    <tr>\n",
       "      <th>2</th>\n",
       "      <td>2</td>\n",
       "      <td>65.0</td>\n",
       "      <td>0</td>\n",
       "      <td>146</td>\n",
       "      <td>0</td>\n",
       "      <td>20</td>\n",
       "      <td>0</td>\n",
       "      <td>162000.00</td>\n",
       "      <td>1.3</td>\n",
       "      <td>129</td>\n",
       "      <td>1</td>\n",
       "      <td>1</td>\n",
       "      <td>7</td>\n",
       "      <td>1</td>\n",
       "    </tr>\n",
       "  </tbody>\n",
       "</table>\n",
       "</div>"
      ],
      "text/plain": [
       "   index   age  anaemia  creatinine_phosphokinase  diabetes  \\\n",
       "0      0  75.0        0                       582         0   \n",
       "1      1  55.0        0                      7861         0   \n",
       "2      2  65.0        0                       146         0   \n",
       "\n",
       "   ejection_fraction  high_blood_pressure  platelets  serum_creatinine  \\\n",
       "0                 20                    1  265000.00               1.9   \n",
       "1                 38                    0  263358.03               1.1   \n",
       "2                 20                    0  162000.00               1.3   \n",
       "\n",
       "   serum_sodium  sex  smoking  time  DEATH_EVENT  \n",
       "0           130    1        0     4            1  \n",
       "1           136    1        0     6            1  \n",
       "2           129    1        1     7            1  "
      ]
     },
     "execution_count": 19,
     "metadata": {},
     "output_type": "execute_result"
    }
   ],
   "source": [
    "conn = sql.connect('Clinical.db')\n",
    "clinical_data.to_sql('Clinical_data', conn, if_exists = 'replace')\n",
    "pd.read_sql('SELECT * FROM Clinical_data LIMIT 3', conn)"
   ]
  },
  {
   "cell_type": "code",
   "execution_count": 20,
   "id": "5f3d2ac5",
   "metadata": {},
   "outputs": [
    {
     "data": {
      "text/html": [
       "<div>\n",
       "<style scoped>\n",
       "    .dataframe tbody tr th:only-of-type {\n",
       "        vertical-align: middle;\n",
       "    }\n",
       "\n",
       "    .dataframe tbody tr th {\n",
       "        vertical-align: top;\n",
       "    }\n",
       "\n",
       "    .dataframe thead th {\n",
       "        text-align: right;\n",
       "    }\n",
       "</style>\n",
       "<table border=\"1\" class=\"dataframe\">\n",
       "  <thead>\n",
       "    <tr style=\"text-align: right;\">\n",
       "      <th></th>\n",
       "      <th>anaemia</th>\n",
       "      <th>count</th>\n",
       "    </tr>\n",
       "  </thead>\n",
       "  <tbody>\n",
       "    <tr>\n",
       "      <th>0</th>\n",
       "      <td>0</td>\n",
       "      <td>170</td>\n",
       "    </tr>\n",
       "    <tr>\n",
       "      <th>1</th>\n",
       "      <td>1</td>\n",
       "      <td>129</td>\n",
       "    </tr>\n",
       "  </tbody>\n",
       "</table>\n",
       "</div>"
      ],
      "text/plain": [
       "   anaemia  count\n",
       "0        0    170\n",
       "1        1    129"
      ]
     },
     "execution_count": 20,
     "metadata": {},
     "output_type": "execute_result"
    }
   ],
   "source": [
    "# Checking Patients suffering from decrease of red blood cells or hemoglobin\n",
    "anaemia_count = pd.read_sql('SELECT anaemia,COUNT(*) AS count FROM Clinical_data GROUP BY anaemia', conn)\n",
    "anaemia_count.head()"
   ]
  },
  {
   "cell_type": "code",
   "execution_count": 21,
   "id": "7d83e3f9",
   "metadata": {},
   "outputs": [
    {
     "data": {
      "image/png": "[encoded data removed]",
      "text/plain": [
       "<Figure size 432x288 with 1 Axes>"
      ]
     },
     "metadata": {},
     "output_type": "display_data"
    }
   ],
   "source": [
    "plt.pie(anaemia_count['count'],labels=['No','Yes'],colors=['purple','pink'] , startangle=90, autopct='%1.2f%%')\n",
    "\n",
    "plt.title('Patients having decrease of red blood cells or hemoglobin')\n",
    "plt.show()"
   ]
  },
  {
   "cell_type": "markdown",
   "id": "ffd88984",
   "metadata": {},
   "source": [
    "From the pie chart we can see that greater percentage of the patients (56.86%) in the dataset do not suffer from anaemia"
   ]
  },
  {
   "cell_type": "code",
   "execution_count": 22,
   "id": "868c6372",
   "metadata": {},
   "outputs": [],
   "source": [
    "# Checking Patients having decrease of red blood cells or hemoglobin\n",
    "diabetes_count = pd.read_sql('SELECT diabetes,COUNT(*) AS count FROM Clinical_data GROUP BY diabetes', conn)"
   ]
  },
  {
   "cell_type": "code",
   "execution_count": 23,
   "id": "73633e2e",
   "metadata": {},
   "outputs": [
    {
     "data": {
      "image/png": "[encoded data removed]",
      "text/plain": [
       "<Figure size 432x288 with 1 Axes>"
      ]
     },
     "metadata": {},
     "output_type": "display_data"
    }
   ],
   "source": [
    "plt.pie(diabetes_count['count'],labels=['No','Yes'],colors=['purple','pink'] , startangle=90, autopct='%1.2f%%')\n",
    "\n",
    "plt.title('Patients suffering from diabetes')\n",
    "plt.show()"
   ]
  },
  {
   "cell_type": "code",
   "execution_count": 24,
   "id": "436f6a8b",
   "metadata": {},
   "outputs": [],
   "source": [
    "# Checking Patients suffering from hypertension\n",
    "high_blood_pressure_count = pd.read_sql('SELECT high_blood_pressure,COUNT(*) AS count FROM Clinical_data GROUP BY high_blood_pressure', conn)\n"
   ]
  },
  {
   "cell_type": "code",
   "execution_count": 25,
   "id": "9e776ba2",
   "metadata": {},
   "outputs": [
    {
     "data": {
      "image/png": "[encoded data removed]",
      "text/plain": [
       "<Figure size 432x288 with 1 Axes>"
      ]
     },
     "metadata": {},
     "output_type": "display_data"
    }
   ],
   "source": [
    "plt.pie(high_blood_pressure_count['count'],labels=['No','Yes'],colors=['purple','pink'] , startangle=90, autopct='%1.2f%%')\n",
    "\n",
    "plt.title('Patients suffering from hypertension')\n",
    "plt.show()"
   ]
  },
  {
   "cell_type": "code",
   "execution_count": 26,
   "id": "2eb34941",
   "metadata": {},
   "outputs": [],
   "source": [
    "# Checking Patients suffering from hypertension\n",
    "sex_count = pd.read_sql('SELECT sex,COUNT(*) AS count FROM Clinical_data GROUP BY sex', conn)"
   ]
  },
  {
   "cell_type": "code",
   "execution_count": 27,
   "id": "88e23253",
   "metadata": {},
   "outputs": [
    {
     "data": {
      "image/png": "[encoded data removed]",
      "text/plain": [
       "<Figure size 432x288 with 1 Axes>"
      ]
     },
     "metadata": {},
     "output_type": "display_data"
    }
   ],
   "source": [
    "plt.pie(sex_count['count'],labels=['Female','Male'],colors=['purple','pink'] , startangle=90, autopct='%1.2f%%')\n",
    "\n",
    "plt.title('Sex of the Patient')\n",
    "plt.show()"
   ]
  },
  {
   "cell_type": "code",
   "execution_count": 28,
   "id": "bb4315c5",
   "metadata": {},
   "outputs": [],
   "source": [
    "# Checking Patients suffering from hypertension\n",
    "smoke_count = pd.read_sql('SELECT smoking,COUNT(*) AS count FROM Clinical_data GROUP BY smoking', conn)"
   ]
  },
  {
   "cell_type": "code",
   "execution_count": 29,
   "id": "a4570619",
   "metadata": {},
   "outputs": [
    {
     "data": {
      "image/png": "[encoded data removed]",
      "text/plain": [
       "<Figure size 432x288 with 1 Axes>"
      ]
     },
     "metadata": {},
     "output_type": "display_data"
    }
   ],
   "source": [
    "plt.pie(smoke_count['count'],labels=['non-smoking','smoking'],colors=['purple','pink'] , startangle=90, autopct='%1.2f%%')\n",
    "\n",
    "plt.title('Smoking & Non-Smoking Patients')\n",
    "plt.show()"
   ]
  },
  {
   "cell_type": "markdown",
   "id": "6a339895",
   "metadata": {},
   "source": [
    "Seeing the above pie charts we can say that there would be comparatively there are more number of patients surviving in the given dataset."
   ]
  },
  {
   "cell_type": "markdown",
   "id": "4b8ae7be",
   "metadata": {},
   "source": [
    "Since we are only considering the clinical features for model building I have removed the folloewup time variables for the initial predictive models"
   ]
  },
  {
   "cell_type": "code",
   "execution_count": 30,
   "id": "3496cc39",
   "metadata": {},
   "outputs": [
    {
     "data": {
      "text/plain": [
       "(299, 11)"
      ]
     },
     "execution_count": 30,
     "metadata": {},
     "output_type": "execute_result"
    }
   ],
   "source": [
    "X_new = X.drop(['time'], axis=1)\n",
    "X_new.shape"
   ]
  },
  {
   "cell_type": "markdown",
   "id": "191e9944",
   "metadata": {},
   "source": [
    "## Building Machine Learning Models"
   ]
  },
  {
   "cell_type": "code",
   "execution_count": 31,
   "id": "dc8f0d68",
   "metadata": {},
   "outputs": [],
   "source": [
    "#Splitting the data into train & test set\n",
    "\n",
    "X_train, X_test, y_train, y_test = train_test_split(X_new, y.values.ravel(), test_size=0.3, random_state=1)"
   ]
  },
  {
   "cell_type": "markdown",
   "id": "7a8de64f",
   "metadata": {},
   "source": [
    "### Logistic Regression"
   ]
  },
  {
   "cell_type": "code",
   "execution_count": 32,
   "id": "5fc8d3b2",
   "metadata": {},
   "outputs": [
    {
     "name": "stdout",
     "output_type": "stream",
     "text": [
      "Logistic train roc-auc: 0.740698869475848\n",
      "Logistic train Accuracy: 0.7416267942583732 \n",
      "Logistic test roc-auc: 0.7445913461538461\n",
      "Logistic test Accuracy: 0.7555555555555555 \n"
     ]
    }
   ],
   "source": [
    "log_classifier = LogisticRegression()\n",
    "log_classifier.fit(X_train,y_train)\n",
    "ytrain_predLR = log_classifier.predict_proba(X_train)\n",
    "ytrain_predLR_actual = log_classifier.predict(X_train)\n",
    "print('Logistic train roc-auc: {}'.format(roc_auc_score(y_train, ytrain_predLR[:,1])))\n",
    "print('Logistic train Accuracy: {} '.format(accuracy_score(y_train, ytrain_predLR_actual)))\n",
    "ytest_predLR = log_classifier.predict_proba(X_test)\n",
    "ytest_predLR_actual = log_classifier.predict(X_test)\n",
    "print('Logistic test roc-auc: {}'.format(roc_auc_score(y_test, ytest_predLR[:,1])))\n",
    "print('Logistic test Accuracy: {} '.format(accuracy_score(y_test, ytest_predLR_actual)))"
   ]
  },
  {
   "cell_type": "markdown",
   "id": "0f240edc",
   "metadata": {},
   "source": [
    "### Random Forest Classification"
   ]
  },
  {
   "cell_type": "code",
   "execution_count": 33,
   "id": "5a586834",
   "metadata": {},
   "outputs": [
    {
     "name": "stdout",
     "output_type": "stream",
     "text": [
      "Random Forest train roc-auc: 0.8626927029804727\n",
      "Random Forest train Accuracy: 0.7894736842105263 \n",
      "Random Forest test roc-auc: 0.7908653846153846\n",
      "Random Forest test Accuracy: 0.7555555555555555 \n"
     ]
    }
   ],
   "source": [
    "rf_model = RandomForestClassifier(max_depth = 2,random_state=1)\n",
    "rf_model.fit(X_train, y_train)\n",
    "ytrain_predrf = rf_model.predict_proba(X_train)\n",
    "ytrain_predrf_actual = rf_model.predict(X_train)\n",
    "print('Random Forest train roc-auc: {}'.format(roc_auc_score(y_train, ytrain_predrf[:,1])))\n",
    "print('Random Forest train Accuracy: {} '.format(accuracy_score(y_train, ytrain_predrf_actual)))\n",
    "ytest_predrf = rf_model.predict_proba(X_test)\n",
    "ytest_predrf_actual = rf_model.predict(X_test)\n",
    "print('Random Forest test roc-auc: {}'.format(roc_auc_score(y_test, ytest_predrf[:,1])))\n",
    "print('Random Forest test Accuracy: {} '.format(accuracy_score(y_test, ytest_predrf_actual)))"
   ]
  },
  {
   "cell_type": "markdown",
   "id": "8e5bce3c",
   "metadata": {},
   "source": [
    "### Adaboost Classifier"
   ]
  },
  {
   "cell_type": "code",
   "execution_count": 34,
   "id": "418ccb2c",
   "metadata": {},
   "outputs": [
    {
     "name": "stdout",
     "output_type": "stream",
     "text": [
      "Adaboost train roc-auc: 0.9618705035971222\n",
      "Adaboost train Accuracy: 0.9090909090909091 \n",
      "Adaboost test roc-auc: 0.7052283653846154\n",
      "Adaboost test Accuracy: 0.7222222222222222 \n"
     ]
    }
   ],
   "source": [
    "ada_classifier=AdaBoostClassifier(random_state=1)\n",
    "ada_classifier.fit(X_train, y_train)\n",
    "ytrain_predada = ada_classifier.predict_proba(X_train)\n",
    "ytrain_predada_actual = ada_classifier.predict(X_train)\n",
    "print('Adaboost train roc-auc: {}'.format(roc_auc_score(y_train, ytrain_predada[:,1])))\n",
    "print('Adaboost train Accuracy: {} '.format(accuracy_score(y_train, ytrain_predada_actual)))\n",
    "ytest_predada = ada_classifier.predict_proba(X_test)\n",
    "ytest_predada_actual = ada_classifier.predict(X_test)\n",
    "print('Adaboost test roc-auc: {}'.format(roc_auc_score(y_test, ytest_predada[:,1])))\n",
    "print('Adaboost test Accuracy: {} '.format(accuracy_score(y_test, ytest_predada_actual)))"
   ]
  },
  {
   "cell_type": "markdown",
   "id": "0536e959",
   "metadata": {},
   "source": [
    "### XGBoosting Classifier"
   ]
  },
  {
   "cell_type": "code",
   "execution_count": 35,
   "id": "8ed85599",
   "metadata": {},
   "outputs": [
    {
     "name": "stdout",
     "output_type": "stream",
     "text": [
      "XGBoost train roc-auc: 0.992497430626927\n",
      "XGBoost test Accuracy: 0.9569377990430622 \n",
      "XGBoost test roc-auc: 0.7289663461538461\n",
      "XGBoost test Accuracy: 0.7666666666666667 \n"
     ]
    }
   ],
   "source": [
    "xgb_classifier = xgb.XGBClassifier(max_depth = 2,verbosity=0, use_label_encoder=False,random_state=1)\n",
    "xgb_classifier.fit(X_train, y_train)\n",
    "ytrain_predxgb = xgb_classifier.predict_proba(X_train)\n",
    "ytrain_predxgb_actual = xgb_classifier.predict(X_train)\n",
    "print('XGBoost train roc-auc: {}'.format(roc_auc_score(y_train, ytrain_predxgb[:,1])))\n",
    "print('XGBoost test Accuracy: {} '.format(accuracy_score(y_train, ytrain_predxgb_actual)))\n",
    "ytest_predxgb = xgb_classifier.predict_proba(X_test)\n",
    "ytest_predxgb_actual = xgb_classifier.predict(X_test)\n",
    "print('XGBoost test roc-auc: {}'.format(roc_auc_score(y_test, ytest_predxgb[:,1])))\n",
    "print('XGBoost test Accuracy: {} '.format(accuracy_score(y_test, ytest_predxgb_actual)))"
   ]
  },
  {
   "cell_type": "markdown",
   "id": "ee74a483",
   "metadata": {},
   "source": [
    "It would be good to do feature selection and hyperparameter tuning to select best parameters for the above built predictive models"
   ]
  },
  {
   "cell_type": "markdown",
   "id": "4b02830b",
   "metadata": {},
   "source": [
    "## Feature Selection"
   ]
  },
  {
   "cell_type": "markdown",
   "id": "e4ffffaa",
   "metadata": {},
   "source": [
    "Univariate feature selection works by selecting the best features based on univariate statistical tests. Below I am using selectKBest which can return best features based on ANOVA F-value between target/feature."
   ]
  },
  {
   "cell_type": "code",
   "execution_count": 53,
   "id": "b90023bb",
   "metadata": {},
   "outputs": [],
   "source": [
    "# Perform feature selection using SelectKBest class and f classif() function (Univariate Analysis)\n",
    "selector = SelectKBest(score_func=f_classif, k=11)\n",
    "fit = selector.fit(X_new, y.values.ravel())\n",
    "scores =fit.scores_\n",
    "features = fit.transform(X_new)"
   ]
  },
  {
   "cell_type": "code",
   "execution_count": 54,
   "id": "7eb0c44d",
   "metadata": {},
   "outputs": [
    {
     "data": {
      "text/html": [
       "<div>\n",
       "<style scoped>\n",
       "    .dataframe tbody tr th:only-of-type {\n",
       "        vertical-align: middle;\n",
       "    }\n",
       "\n",
       "    .dataframe tbody tr th {\n",
       "        vertical-align: top;\n",
       "    }\n",
       "\n",
       "    .dataframe thead th {\n",
       "        text-align: right;\n",
       "    }\n",
       "</style>\n",
       "<table border=\"1\" class=\"dataframe\">\n",
       "  <thead>\n",
       "    <tr style=\"text-align: right;\">\n",
       "      <th></th>\n",
       "      <th>Features</th>\n",
       "      <th>Feature Importance Score</th>\n",
       "    </tr>\n",
       "  </thead>\n",
       "  <tbody>\n",
       "    <tr>\n",
       "      <th>7</th>\n",
       "      <td>serum_creatinine</td>\n",
       "      <td>28.158492</td>\n",
       "    </tr>\n",
       "    <tr>\n",
       "      <th>4</th>\n",
       "      <td>ejection_fraction</td>\n",
       "      <td>23.094063</td>\n",
       "    </tr>\n",
       "    <tr>\n",
       "      <th>0</th>\n",
       "      <td>age</td>\n",
       "      <td>20.435946</td>\n",
       "    </tr>\n",
       "    <tr>\n",
       "      <th>8</th>\n",
       "      <td>serum_sodium</td>\n",
       "      <td>11.765331</td>\n",
       "    </tr>\n",
       "    <tr>\n",
       "      <th>5</th>\n",
       "      <td>high_blood_pressure</td>\n",
       "      <td>1.881937</td>\n",
       "    </tr>\n",
       "    <tr>\n",
       "      <th>1</th>\n",
       "      <td>anaemia</td>\n",
       "      <td>1.310096</td>\n",
       "    </tr>\n",
       "    <tr>\n",
       "      <th>2</th>\n",
       "      <td>creatinine_phosphokinase</td>\n",
       "      <td>1.173259</td>\n",
       "    </tr>\n",
       "    <tr>\n",
       "      <th>6</th>\n",
       "      <td>platelets</td>\n",
       "      <td>0.718880</td>\n",
       "    </tr>\n",
       "    <tr>\n",
       "      <th>10</th>\n",
       "      <td>smoking</td>\n",
       "      <td>0.047333</td>\n",
       "    </tr>\n",
       "    <tr>\n",
       "      <th>9</th>\n",
       "      <td>sex</td>\n",
       "      <td>0.005534</td>\n",
       "    </tr>\n",
       "    <tr>\n",
       "      <th>3</th>\n",
       "      <td>diabetes</td>\n",
       "      <td>0.001121</td>\n",
       "    </tr>\n",
       "  </tbody>\n",
       "</table>\n",
       "</div>"
      ],
      "text/plain": [
       "                    Features  Feature Importance Score\n",
       "7           serum_creatinine                 28.158492\n",
       "4          ejection_fraction                 23.094063\n",
       "0                        age                 20.435946\n",
       "8               serum_sodium                 11.765331\n",
       "5        high_blood_pressure                  1.881937\n",
       "1                    anaemia                  1.310096\n",
       "2   creatinine_phosphokinase                  1.173259\n",
       "6                  platelets                  0.718880\n",
       "10                   smoking                  0.047333\n",
       "9                        sex                  0.005534\n",
       "3                   diabetes                  0.001121"
      ]
     },
     "execution_count": 54,
     "metadata": {},
     "output_type": "execute_result"
    }
   ],
   "source": [
    "Top_Features = pd.DataFrame()\n",
    "Top_Features['Features'] = X_new.columns\n",
    "Top_Features['Feature Importance Score'] = scores\n",
    "Top_Features = Top_Features.sort_values(by = 'Feature Importance Score', ascending = False)\n",
    "Top_Features"
   ]
  },
  {
   "cell_type": "code",
   "execution_count": 55,
   "id": "ac724e4c",
   "metadata": {},
   "outputs": [
    {
     "data": {
      "image/png": "[encoded data removed]",
      "text/plain": [
       "<Figure size 432x288 with 1 Axes>"
      ]
     },
     "metadata": {
      "needs_background": "light"
     },
     "output_type": "display_data"
    }
   ],
   "source": [
    "Top_Features.plot.barh(x='Features', y='Feature Importance Score')\n",
    "plt.show()"
   ]
  },
  {
   "cell_type": "markdown",
   "id": "7b0a9db5",
   "metadata": {},
   "source": [
    "From the above plot we can see that serum creatinine and ejection fraction are the top 2 important features, Thus I have used these key features as input variables to obtain accurate predictions."
   ]
  },
  {
   "cell_type": "markdown",
   "id": "1fa328fa",
   "metadata": {},
   "source": [
    "Since Random Forest, Adaboost and XGBoost are tree based we can find the feature importance based on each of these models"
   ]
  },
  {
   "cell_type": "code",
   "execution_count": 39,
   "id": "fb31be06",
   "metadata": {},
   "outputs": [
    {
     "data": {
      "image/png": "[encoded data removed]",
      "text/plain": [
       "<Figure size 432x288 with 1 Axes>"
      ]
     },
     "metadata": {
      "needs_background": "light"
     },
     "output_type": "display_data"
    }
   ],
   "source": [
    "RF_Top_Features = pd.DataFrame()\n",
    "RF_Top_Features['Features'] = X_new.columns\n",
    "RF_Top_Features['Feature Importance Score'] = rf_model.feature_importances_\n",
    "RF_Top_Features = RF_Top_Features.sort_values(by = 'Feature Importance Score', ascending = False)\n",
    "RF_Top_Features.plot.barh(x='Features', y='Feature Importance Score')\n",
    "plt.show()"
   ]
  },
  {
   "cell_type": "code",
   "execution_count": 40,
   "id": "a881ffaf",
   "metadata": {},
   "outputs": [
    {
     "data": {
      "image/png": "[encoded data removed]",
      "text/plain": [
       "<Figure size 432x288 with 1 Axes>"
      ]
     },
     "metadata": {
      "needs_background": "light"
     },
     "output_type": "display_data"
    }
   ],
   "source": [
    "Ada_Top_Features = pd.DataFrame()\n",
    "Ada_Top_Features['Features'] = X_new.columns\n",
    "Ada_Top_Features['Feature Importance Score'] = ada_classifier.feature_importances_\n",
    "Ada_Top_Features = Ada_Top_Features.sort_values(by = 'Feature Importance Score', ascending = False)\n",
    "Ada_Top_Features.plot.barh(x='Features', y='Feature Importance Score')\n",
    "plt.show()"
   ]
  },
  {
   "cell_type": "code",
   "execution_count": 41,
   "id": "0a66696f",
   "metadata": {},
   "outputs": [
    {
     "data": {
      "image/png": "[encoded data removed]",
      "text/plain": [
       "<Figure size 432x288 with 1 Axes>"
      ]
     },
     "metadata": {
      "needs_background": "light"
     },
     "output_type": "display_data"
    }
   ],
   "source": [
    "xgb_Top_Features = pd.DataFrame()\n",
    "xgb_Top_Features['Features'] = X_new.columns\n",
    "xgb_Top_Features['Feature Importance Score'] = xgb_classifier.feature_importances_\n",
    "xgb_Top_Features = xgb_Top_Features.sort_values(by = 'Feature Importance Score', ascending = False)\n",
    "xgb_Top_Features.plot.barh(x='Features', y='Feature Importance Score')\n",
    "plt.show()"
   ]
  },
  {
   "cell_type": "markdown",
   "id": "1be92c1c",
   "metadata": {},
   "source": [
    "Based on the Univariate analysis and the feature importances from each model, serum creatinine and ejection fraction appear to be important features to accurately predict patients survival. Thus I have selected these features to build an accurately predicting model. Since followup time could be important aspect that I did not include in the earlier models I have tried to include it as one of the input feature for final models"
   ]
  },
  {
   "cell_type": "code",
   "execution_count": 42,
   "id": "2cb14692",
   "metadata": {},
   "outputs": [],
   "source": [
    "#Splitting the data into train & test set\n",
    "\n",
    "X_selected = X[['serum_creatinine','ejection_fraction','time']]\n",
    "X_train, X_test, y_train, y_test = train_test_split(X_selected, y.values.ravel(), test_size=0.35, random_state=1)"
   ]
  },
  {
   "cell_type": "code",
   "execution_count": 43,
   "id": "7bdc37fb",
   "metadata": {},
   "outputs": [
    {
     "name": "stdout",
     "output_type": "stream",
     "text": [
      "Logistic train roc-auc: 0.8925843224820778\n",
      "Logistic train Accuracy: 0.845360824742268 \n",
      "Logistic test roc-auc: 0.8557168784029038\n",
      "Logistic test Accuracy: 0.8095238095238095 \n"
     ]
    }
   ],
   "source": [
    "log_classifier = LogisticRegression()\n",
    "log_classifier.fit(X_train,y_train)\n",
    "ytrain_predLR = log_classifier.predict_proba(X_train)\n",
    "ytrain_predLR_actual = log_classifier.predict(X_train)\n",
    "print('Logistic train roc-auc: {}'.format(roc_auc_score(y_train, ytrain_predLR[:,1])))\n",
    "print('Logistic train Accuracy: {} '.format(accuracy_score(y_train, ytrain_predLR_actual)))\n",
    "ytest_predLR = log_classifier.predict_proba(X_test)\n",
    "ytest_predLR_actual = log_classifier.predict(X_test)\n",
    "print('Logistic test roc-auc: {}'.format(roc_auc_score(y_test, ytest_predLR[:,1])))\n",
    "print('Logistic test Accuracy: {} '.format(accuracy_score(y_test, ytest_predLR_actual)))"
   ]
  },
  {
   "cell_type": "markdown",
   "id": "67d3d793",
   "metadata": {},
   "source": [
    "## Hyperparameter Tuning"
   ]
  },
  {
   "cell_type": "markdown",
   "id": "6acdc92f",
   "metadata": {},
   "source": [
    "Selecting the best parameter for Random Forest Model using RandomizedSearchCV"
   ]
  },
  {
   "cell_type": "code",
   "execution_count": 44,
   "id": "d1d16937",
   "metadata": {},
   "outputs": [
    {
     "name": "stdout",
     "output_type": "stream",
     "text": [
      "{'n_estimators': 800, 'min_samples_split': 10, 'min_samples_leaf': 2, 'max_depth': 80, 'bootstrap': True}\n"
     ]
    }
   ],
   "source": [
    "params_rf = {'bootstrap': [True, False],\n",
    "             'max_depth': [2,4,5,6,8,15,10, 20, 30, 40, 50, 60, 70, 80, 90, 100, None],\n",
    "             'min_samples_leaf': [1, 2, 4],\n",
    "             'min_samples_split': [2, 5, 10],\n",
    "             'n_estimators': [50, 100,150,200, 400, 600, 800]}\n",
    "search1 = RandomizedSearchCV(estimator = rf_model, param_distributions=params_rf,random_state=42)\n",
    "search1.fit(X_train, y_train)\n",
    "print(search1.best_params_)"
   ]
  },
  {
   "cell_type": "code",
   "execution_count": 45,
   "id": "ab8ed954",
   "metadata": {},
   "outputs": [
    {
     "name": "stdout",
     "output_type": "stream",
     "text": [
      "Random Forest train roc-auc: 0.977553178986955\n",
      "Random Forest train Accuracy: 0.9123711340206185 \n",
      "Random Forest test roc-auc: 0.9033575317604357\n",
      "Random Forest test Accuracy: 0.8761904761904762 \n"
     ]
    }
   ],
   "source": [
    "best_rf_model = RandomForestClassifier(n_estimators= 800,min_samples_split = 10, min_samples_leaf= 2, \n",
    "                                       max_depth = 80,bootstrap = True, random_state=1)\n",
    "best_rf_model.fit(X_train, y_train)\n",
    "ytrain_predrf = best_rf_model.predict_proba(X_train)\n",
    "ytrain_predrf_actual = best_rf_model.predict(X_train)\n",
    "print('Random Forest train roc-auc: {}'.format(roc_auc_score(y_train, ytrain_predrf[:,1])))\n",
    "print('Random Forest train Accuracy: {} '.format(accuracy_score(y_train, ytrain_predrf_actual)))\n",
    "ytest_predrf = best_rf_model.predict_proba(X_test)\n",
    "ytest_predrf_actual = best_rf_model.predict(X_test)\n",
    "print('Random Forest test roc-auc: {}'.format(roc_auc_score(y_test, ytest_predrf[:,1])))\n",
    "print('Random Forest test Accuracy: {} '.format(accuracy_score(y_test, ytest_predrf_actual)))"
   ]
  },
  {
   "cell_type": "markdown",
   "id": "ab4f1383",
   "metadata": {},
   "source": [
    "Selecting the best parameters for the Adaboost Model will further improve the performance of the model and to do that I have used GridSearchCV"
   ]
  },
  {
   "cell_type": "code",
   "execution_count": 46,
   "id": "e5551b02",
   "metadata": {},
   "outputs": [
    {
     "name": "stdout",
     "output_type": "stream",
     "text": [
      "{'learning_rate': 1, 'n_estimators': 100}\n"
     ]
    }
   ],
   "source": [
    "# Tuning Adaboost classifier\n",
    "\n",
    "params_ada = {\n",
    "    \"n_estimators\": [50,100, 150],\n",
    "    \"learning_rate\": [1, 0.05,0.30]\n",
    "}\n",
    "\n",
    "search2 = GridSearchCV(estimator = ada_classifier, param_grid=params_ada)\n",
    "search2.fit(X_train, y_train)\n",
    "print(search2.best_params_)"
   ]
  },
  {
   "cell_type": "code",
   "execution_count": 47,
   "id": "e7b96e29",
   "metadata": {},
   "outputs": [
    {
     "name": "stdout",
     "output_type": "stream",
     "text": [
      "Adaboost train roc-auc: 0.995886708191327\n",
      "Adaboost train Accuracy: 0.9587628865979382 \n",
      "Adaboost test roc-auc: 0.8491379310344827\n",
      "Adaboost test Accuracy: 0.8095238095238095 \n"
     ]
    }
   ],
   "source": [
    "best_ada_classifier=AdaBoostClassifier(learning_rate = 1, n_estimators =  100, random_state=1)\n",
    "best_ada_classifier.fit(X_train, y_train)\n",
    "ytrain_predada = best_ada_classifier.predict_proba(X_train)\n",
    "ytrain_predada_actual = best_ada_classifier.predict(X_train)\n",
    "print('Adaboost train roc-auc: {}'.format(roc_auc_score(y_train, ytrain_predada[:,1])))\n",
    "print('Adaboost train Accuracy: {} '.format(accuracy_score(y_train, ytrain_predada_actual)))\n",
    "ytest_predada = best_ada_classifier.predict_proba(X_test)\n",
    "ytest_predada_actual = best_ada_classifier.predict(X_test)\n",
    "print('Adaboost test roc-auc: {}'.format(roc_auc_score(y_test, ytest_predada[:,1])))\n",
    "print('Adaboost test Accuracy: {} '.format(accuracy_score(y_test, ytest_predada_actual)))"
   ]
  },
  {
   "cell_type": "markdown",
   "id": "6b186374",
   "metadata": {},
   "source": [
    "Selecting the best parameters for the XGBoost Model will further improve the performance of the model and to do that I have used RandomizedSerchCV which can provide best parameters out of different combinations of availables input parameters"
   ]
  },
  {
   "cell_type": "code",
   "execution_count": 48,
   "id": "ba13c480",
   "metadata": {},
   "outputs": [
    {
     "name": "stdout",
     "output_type": "stream",
     "text": [
      "{'subsample': 0.4, 'n_estimators': 400, 'max_depth': 4, 'max_child_weight': 3, 'learning_rate': 0.05, 'colsample_bytree': 0.5}\n"
     ]
    }
   ],
   "source": [
    "#Tuning XGBoost Model\n",
    "\n",
    "params = {\n",
    "\"colsample_bytree\": [0.3,0.5,0.7],\n",
    "\"learning_rate\": [0.05,0.30,1], # default 0.1\n",
    "\"max_depth\": [2,4,5,6,8,15], # default 3\n",
    "\"n_estimators\": [50, 100,150,200, 400, 600, 800], # default 100\n",
    "\"subsample\": [0.6, 0.4,1],\n",
    "\"max_child_weight\": [1,3,7]\n",
    "}\n",
    "search = RandomizedSearchCV(estimator = xgb_classifier, param_distributions=params,random_state=42)\n",
    "search.fit(X_train, y_train)\n",
    "print(search.best_params_)"
   ]
  },
  {
   "cell_type": "code",
   "execution_count": 49,
   "id": "3aaea928",
   "metadata": {},
   "outputs": [
    {
     "name": "stdout",
     "output_type": "stream",
     "text": [
      "XGBoost train roc-auc: 0.9721471383241274\n",
      "XGBoost test Accuracy: 0.9020618556701031 \n",
      "XGBoost test roc-auc: 0.9047186932849365\n",
      "XGBoost test Accuracy: 0.8952380952380953 \n"
     ]
    }
   ],
   "source": [
    "final_xgb_model = xgb.XGBClassifier(subsample= 0.4,colsample_bytree = 0.5, n_estimators= 400,\n",
    "max_child_weight= 3, learning_rate = 0.05,max_depth = 4,verbose=0, use_label_encoder=False,random_state=1)\n",
    "final_xgb_model.fit(X_train, y_train)\n",
    "ytrain_predxgb = final_xgb_model.predict_proba(X_train)\n",
    "ytrain_predxgb_actual = final_xgb_model.predict(X_train)\n",
    "print('XGBoost train roc-auc: {}'.format(roc_auc_score(y_train, ytrain_predxgb[:,1])))\n",
    "print('XGBoost test Accuracy: {} '.format(accuracy_score(y_train, ytrain_predxgb_actual)))\n",
    "ytest_predxgb = final_xgb_model.predict_proba(X_test)\n",
    "ytest_predxgb_actual = final_xgb_model.predict(X_test)\n",
    "print('XGBoost test roc-auc: {}'.format(roc_auc_score(y_test, ytest_predxgb[:,1])))\n",
    "print('XGBoost test Accuracy: {} '.format(accuracy_score(y_test, ytest_predxgb_actual)))"
   ]
  },
  {
   "cell_type": "markdown",
   "id": "f78f8ec1",
   "metadata": {},
   "source": [
    "## Conclusion"
   ]
  },
  {
   "cell_type": "markdown",
   "id": "c9877bed",
   "metadata": {},
   "source": [
    "From the analysis and models build in this project we can deduce that feature selection based on feature importance scores and hyperparameter tuning of models improves performance of  the implemented ML models. It is seen that serum creatinine and ejection fraction are two key features that help to accurately predict patient's survival with heart failure during follow up period. Thus, these two features can be majorly studies when examining patient’s survival."
   ]
  },
  {
   "cell_type": "markdown",
   "id": "abb13d35",
   "metadata": {},
   "source": [
    "In future works I plan to explore other Deep learning based algorithms to further improve the accuracy of the model. Also, I would like to further investigation on other model parameters and features (like follow-up time). It would be interesting to check on other demographic features of the dataset to check if they influence patient's survival probability."
   ]
  },
  {
   "cell_type": "markdown",
   "id": "8e056c00",
   "metadata": {},
   "source": [
    "## References"
   ]
  },
  {
   "cell_type": "markdown",
   "id": "1d7fcdaa",
   "metadata": {},
   "source": [
    "1. https://archive.ics.uci.edu/ml/datasets/Heart+failure+clinical+records\n",
    "2. Davide Chicco, Giuseppe Jurman: \"Machine learning can predict survival of patients with heart failure from serum creatinine and ejection fraction alone\". BMC Medical Informatics and Decision Making 20, 16 (2020). <a href=\"https://doi.org/10.1186/s12911-020-1023-5\"> [Web Link] </a>"
   ]
  }
 ],
 "metadata": {
  "kernelspec": {
   "display_name": "Python 3 (ipykernel)",
   "language": "python",
   "name": "python3"
  },
  "language_info": {
   "codemirror_mode": {
    "name": "ipython",
    "version": 3
   },
   "file_extension": ".py",
   "mimetype": "text/x-python",
   "name": "python",
   "nbconvert_exporter": "python",
   "pygments_lexer": "ipython3",
   "version": "3.8.5"
  }
 },
 "nbformat": 4,
 "nbformat_minor": 5
}
